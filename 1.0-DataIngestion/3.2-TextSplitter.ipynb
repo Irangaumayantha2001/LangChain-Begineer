{
 "cells": [
  {
   "cell_type": "code",
   "execution_count": null,
   "id": "42a63273",
   "metadata": {},
   "outputs": [],
   "source": [
    "## Reading a pdf File\n"
   ]
  }
 ],
 "metadata": {
  "language_info": {
   "name": "python"
  }
 },
 "nbformat": 4,
 "nbformat_minor": 5
}
